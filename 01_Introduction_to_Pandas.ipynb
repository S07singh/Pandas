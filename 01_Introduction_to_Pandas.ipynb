{
 "cells": [
  {
   "cell_type": "markdown",
   "id": "8a276fed",
   "metadata": {},
   "source": [
    "# Introduction to Pandas\n",
    "\n",
    "Learn the basics of the Pandas library in Python."
   ]
  },
  {
   "cell_type": "markdown",
   "id": "55d62e61",
   "metadata": {},
   "source": [
    "## What is Pandas?\n",
    "\n",
    "Pandas is a powerful, open-source Python library used for data manipulation, cleaning, and analysis. It provides two main data structures:\n",
    "\n",
    "- **Series**: A one-dimensional labeled array  \n",
    "- **DataFrame**: A two-dimensional labeled table (like an Excel sheet or SQL table)\n",
    "\n",
    "Pandas makes working with structured data fast, expressive, and flexible.\n",
    "\n",
    "If you're working with tables, spreadsheets, or CSVs in Python—Pandas is your best friend.\n"
   ]
  },
  {
   "cell_type": "markdown",
   "id": "5ab755fa",
   "metadata": {
    "jp-MarkdownHeadingCollapsed": true
   },
   "source": [
    "## Why Use Pandas?\n",
    "\n",
    "| Task | Without Pandas | With Pandas |\n",
    "|------|----------------|-------------|\n",
    "| Load a CSV | `open()` + loops | `pd.read_csv()` |\n",
    "| Filter rows | Custom loop logic | `df[df[\"col\"] > 5]` |\n",
    "| Group & summarize | Manual aggregation | `df.groupby()` |\n",
    "| Merge two datasets | Nested loops | `pd.merge()` |\n",
    "\n",
    "Pandas saves time, reduces code, and increases readability.\n"
   ]
  },
  {
   "cell_type": "markdown",
   "id": "b2ca8041",
   "metadata": {
    "jp-MarkdownHeadingCollapsed": true
   },
   "source": [
    "## Installing Pandas\n",
    "\n",
    "Install via pip:\n",
    "\n",
    "```bash\n",
    "pip install pandas\n",
    "```\n",
    "\n",
    "Or using conda (recommended if you're using Anaconda):\n",
    "\n",
    "```bash\n",
    "conda install pandas\n",
    "```\n"
   ]
  },
  {
   "cell_type": "markdown",
   "id": "22b11f5b",
   "metadata": {
    "jp-MarkdownHeadingCollapsed": true
   },
   "source": [
    "## Importing Pandas\n",
    "\n",
    "```python\n",
    "import pandas as pd\n",
    "```\n",
    "\n",
    "`pd` is the standard alias used by the data science community.\n"
   ]
  },
  {
   "cell_type": "markdown",
   "id": "39a2b7dd",
   "metadata": {
    "jp-MarkdownHeadingCollapsed": true
   },
   "source": [
    "## Pandas vs Excel vs SQL vs NumPy\n",
    "\n",
    "| Tool | Strengths | Weaknesses |\n",
    "|------|-----------|------------|\n",
    "| Excel | Easy UI, great for small data | Slow, manual, not scalable |\n",
    "| SQL | Efficient querying of big data | Not ideal for transformation logic |\n",
    "| NumPy | Fast, low-level array operations | No labels, harder for tabular data |\n",
    "| Pandas | Label-aware, fast, flexible | Slightly steep learning curve |\n",
    "\n",
    "Pandas bridges the gap between **NumPy performance** and **Excel-like usability**. Pandas is built on top of NumPy.\n"
   ]
  },
  {
   "cell_type": "markdown",
   "id": "7fa09f98-11ef-4ebb-930a-a028ee60a7b0",
   "metadata": {},
   "source": [
    "## Summary\n",
    "- Use Pandas when working with structured data.\n",
    "- It's the Swiss Army knife of data science."
   ]
  },
  {
   "cell_type": "code",
   "execution_count": 8,
   "id": "d66cf894-4e90-4148-83d7-dfbe31b85abf",
   "metadata": {},
   "outputs": [],
   "source": [
    "import pandas as pd"
   ]
  }
 ],
 "metadata": {
  "kernelspec": {
   "display_name": "Python [conda env:base] *",
   "language": "python",
   "name": "conda-base-py"
  },
  "language_info": {
   "codemirror_mode": {
    "name": "ipython",
    "version": 3
   },
   "file_extension": ".py",
   "mimetype": "text/x-python",
   "name": "python",
   "nbconvert_exporter": "python",
   "pygments_lexer": "ipython3",
   "version": "3.12.7"
  }
 },
 "nbformat": 4,
 "nbformat_minor": 5
}
